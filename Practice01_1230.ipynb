{
  "nbformat": 4,
  "nbformat_minor": 0,
  "metadata": {
    "colab": {
      "provenance": [],
      "authorship_tag": "ABX9TyO9V/ZCxDp+03y6+EHNnqtp",
      "include_colab_link": true
    },
    "kernelspec": {
      "name": "python3",
      "display_name": "Python 3"
    },
    "language_info": {
      "name": "python"
    }
  },
  "cells": [
    {
      "cell_type": "markdown",
      "metadata": {
        "id": "view-in-github",
        "colab_type": "text"
      },
      "source": [
        "<a href=\"https://colab.research.google.com/github/shannonshih/Tibame_GAD245-practice-HW_1230/blob/main/Practice01_1230.ipynb\" target=\"_parent\"><img src=\"https://colab.research.google.com/assets/colab-badge.svg\" alt=\"Open In Colab\"/></a>"
      ]
    },
    {
      "cell_type": "code",
      "source": [
        "# 迴圈\n",
        "# 準備一個計數器 i\n",
        "# 1.初始化: i = 0\n",
        "# 2.判斷: i < 10\n",
        "# 3.增加: i = i + 1\n",
        "i = 0\n",
        "while i < 10:\n",
        "    print(i)\n",
        "    i = i + 1\n",
        "# 好習慣: 這三行絕對不改\n",
        "# 1.次數就在<後\n",
        "# 2.數: 0 1 .... 次 - 1"
      ],
      "metadata": {
        "id": "Hmv55GLMWcv5"
      },
      "execution_count": null,
      "outputs": []
    },
    {
      "cell_type": "code",
      "execution_count": null,
      "metadata": {
        "colab": {
          "base_uri": "https://localhost:8080/"
        },
        "id": "tnqPzfJoHA6u",
        "outputId": "e2cf7d9b-6ecc-4176-d999-850274da5787"
      },
      "outputs": [
        {
          "output_type": "stream",
          "name": "stdout",
          "text": [
            "5 20 1 50\n",
            "6 19 3 47\n",
            "7 18 5 44\n",
            "8 17 7 41\n",
            "9 16 9 38\n",
            "10 15 11 35\n",
            "11 14 13 32\n",
            "12 13 15 29\n",
            "13 12 17 26\n",
            "14 11 19 23\n"
          ]
        }
      ],
      "source": [
        "i = 0\n",
        "while i < 10:\n",
        "    print(5 + i,\n",
        "       20 - i,\n",
        "       2 * i + 1,\n",
        "       # 50 47 44\n",
        "       50 - 3 * i)\n",
        "    i = i + 1"
      ]
    }
  ]
}