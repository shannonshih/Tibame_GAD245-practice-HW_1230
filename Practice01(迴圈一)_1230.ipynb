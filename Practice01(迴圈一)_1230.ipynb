{
  "nbformat": 4,
  "nbformat_minor": 0,
  "metadata": {
    "colab": {
      "provenance": [],
      "authorship_tag": "ABX9TyMFOh4upeUg/5d/QDYQlgT/",
      "include_colab_link": true
    },
    "kernelspec": {
      "name": "python3",
      "display_name": "Python 3"
    },
    "language_info": {
      "name": "python"
    }
  },
  "cells": [
    {
      "cell_type": "markdown",
      "metadata": {
        "id": "view-in-github",
        "colab_type": "text"
      },
      "source": [
        "<a href=\"https://colab.research.google.com/github/shannonshih/Tibame_GAD245-practice-HW_1230/blob/main/Practice01(%E8%BF%B4%E5%9C%88%E4%B8%80)_1230.ipynb\" target=\"_parent\"><img src=\"https://colab.research.google.com/assets/colab-badge.svg\" alt=\"Open In Colab\"/></a>"
      ]
    },
    {
      "cell_type": "code",
      "source": [
        "# 迴圈\n",
        "\n",
        "# part1. 重複n次: 從0次數到n-1次\n",
        "# 10: 0 1 ... 9\n",
        "# 準備一個計數器 i\n",
        "# 1.初始化: i = 0\n",
        "# 2.判斷: i < 10\n",
        "# 3.增加: i = i + 1\n",
        "i = 0\n",
        "while i < 10:\n",
        "    print(i)\n",
        "    i = i + 1\n",
        "# !!!好習慣: 這三行絕對不改\n",
        "# 1.次數就在<後\n",
        "# 2.數: 0 1 .... 次 - 1\n",
        "\n",
        "# Q1. 1 2 ... 10\n",
        "# A1. i + 1\n",
        "\n",
        "# Q2. 10 9 ... 1\n",
        "# A2. 10 - i\n",
        "\n",
        "# Q3. 1 3 5 7\n",
        "# A3. 2 * i + 1"
      ],
      "metadata": {
        "id": "Hmv55GLMWcv5"
      },
      "execution_count": null,
      "outputs": []
    },
    {
      "cell_type": "code",
      "execution_count": null,
      "metadata": {
        "colab": {
          "base_uri": "https://localhost:8080/"
        },
        "id": "tnqPzfJoHA6u",
        "outputId": "e2cf7d9b-6ecc-4176-d999-850274da5787"
      },
      "outputs": [
        {
          "output_type": "stream",
          "name": "stdout",
          "text": [
            "5 20 1 50\n",
            "6 19 3 47\n",
            "7 18 5 44\n",
            "8 17 7 41\n",
            "9 16 9 38\n",
            "10 15 11 35\n",
            "11 14 13 32\n",
            "12 13 15 29\n",
            "13 12 17 26\n",
            "14 11 19 23\n"
          ]
        }
      ],
      "source": [
        "i = 0\n",
        "while i < 10:\n",
        "    print(5 + i,\n",
        "       20 - i,\n",
        "       2 * i + 1,\n",
        "       # 50 47 44\n",
        "       50 - 3 * i)\n",
        "    i = i + 1"
      ]
    },
    {
      "cell_type": "code",
      "source": [
        "i = 0\n",
        "while i < 10:\n",
        "    print(\"*\" * (i + 1))\n",
        "    i = i + 1"
      ],
      "metadata": {
        "colab": {
          "base_uri": "https://localhost:8080/"
        },
        "id": "lkKvF8dqb3CC",
        "outputId": "282d194c-ebee-4feb-e686-ed0cc800ac59"
      },
      "execution_count": 5,
      "outputs": [
        {
          "output_type": "stream",
          "name": "stdout",
          "text": [
            "*\n",
            "**\n",
            "***\n",
            "****\n",
            "*****\n",
            "******\n",
            "*******\n",
            "********\n",
            "*********\n",
            "**********\n"
          ]
        }
      ]
    },
    {
      "cell_type": "code",
      "source": [
        "# 不良示範 因為妳檢討完發現四種其實是同一個問題\n",
        "# 應該統一處理(這個妳也該印空白鍵)\n",
        "i = 0\n",
        "while i < 10:\n",
        "    print(\"*\" * (i + 1))\n",
        "    i = i + 1"
      ],
      "metadata": {
        "id": "NrqiNo1CfS8H"
      },
      "execution_count": null,
      "outputs": []
    },
    {
      "cell_type": "code",
      "source": [
        "# Practice1\n",
        "i = 0\n",
        "while i < 10:\n",
        "    print(\".\" * (9 - i) + \"*\" * (i + 1))\n",
        "    i = i + 1"
      ],
      "metadata": {
        "colab": {
          "base_uri": "https://localhost:8080/"
        },
        "id": "2pjbQRpXcgIG",
        "outputId": "e51d4ed5-7ce3-41b3-801a-ea8ba158b9cc"
      },
      "execution_count": 3,
      "outputs": [
        {
          "output_type": "stream",
          "name": "stdout",
          "text": [
            ".........*\n",
            "........**\n",
            ".......***\n",
            "......****\n",
            ".....*****\n",
            "....******\n",
            "...*******\n",
            "..********\n",
            ".*********\n",
            "**********\n"
          ]
        }
      ]
    },
    {
      "cell_type": "code",
      "source": [
        "# Practice1_老師檢討後\n",
        "i = 0\n",
        "while i < 10:\n",
        "    print(\" \" * (10 - i - 1) + \"*\" * (i + 1))\n",
        "    i = i + 1"
      ],
      "metadata": {
        "colab": {
          "base_uri": "https://localhost:8080/"
        },
        "id": "oGKRNnrLeVXP",
        "outputId": "9f025f05-855a-4412-a11e-089e39fc50e7"
      },
      "execution_count": 4,
      "outputs": [
        {
          "output_type": "stream",
          "name": "stdout",
          "text": [
            "         *\n",
            "        **\n",
            "       ***\n",
            "      ****\n",
            "     *****\n",
            "    ******\n",
            "   *******\n",
            "  ********\n",
            " *********\n",
            "**********\n"
          ]
        }
      ]
    },
    {
      "cell_type": "code",
      "source": [
        "# Practice1_老師檢討後\n",
        "height = 10\n",
        "i = 0\n",
        "while i < height:\n",
        "    print(\" \" * (height - i - 1) + \"*\" * (i + 1))\n",
        "    i = i + 1"
      ],
      "metadata": {
        "id": "mLFzoAaTeg3P"
      },
      "execution_count": null,
      "outputs": []
    },
    {
      "cell_type": "code",
      "source": [
        "# Practice1_老師檢討後\n",
        "height = 10\n",
        "lsymbol, rsymbol = \" \", \"*\"\n",
        "i = 0\n",
        "while i < height:\n",
        "    lcount = height - i - 1\n",
        "    rcount = i + 1\n",
        "    print(lsymbol * lcount +\n",
        "       rsymbol * rcount)\n",
        "    i = i + 1"
      ],
      "metadata": {
        "id": "Hvyu5O5Kfkmg"
      },
      "execution_count": null,
      "outputs": []
    },
    {
      "cell_type": "code",
      "source": [
        "# Practice2\n",
        "height = 10\n",
        "lsymbol, midsymbol, rsymbol = \" \", \"*\", \" \"\n",
        "i = 0\n",
        "while i < height:\n",
        "    lcount = i + 1\n",
        "    midcount = height - (2 * i) + 1\n",
        "    rcount = i + 1\n",
        "    print(lsymbol * lcount +\n",
        "       midsymbol * midcount +\n",
        "       rsymbol * rcount)\n",
        "    i = i + 1"
      ],
      "metadata": {
        "colab": {
          "base_uri": "https://localhost:8080/"
        },
        "id": "AxpX2sbZgj3E",
        "outputId": "37b890b1-2476-4eeb-cce7-89e44cd2b9e6"
      },
      "execution_count": 12,
      "outputs": [
        {
          "output_type": "stream",
          "name": "stdout",
          "text": [
            " *********** \n",
            "  *********  \n",
            "   *******   \n",
            "    *****    \n",
            "     ***     \n",
            "      *      \n",
            "              \n",
            "                \n",
            "                  \n",
            "                    \n"
          ]
        }
      ]
    },
    {
      "cell_type": "code",
      "source": [
        "# Practice2_老師檢討後\n",
        "height = 10\n",
        "lsymbol, midsymbol, rsymbol = \" \", \"*\", \" \"\n",
        "i = 0\n",
        "while i < height:\n",
        "    lcount = i + 1\n",
        "    # 層數\n",
        "    midcount = (height * 2 - 1) - 2 * i\n",
        "    rcount = i + 1\n",
        "    print(lsymbol * lcount +\n",
        "       midsymbol * midcount +\n",
        "       rsymbol * rcount)\n",
        "    i = i + 1"
      ],
      "metadata": {
        "colab": {
          "base_uri": "https://localhost:8080/"
        },
        "id": "uRn1Axtnk4CB",
        "outputId": "3ff65b7a-e3c3-48f5-993c-fe215444dbf9"
      },
      "execution_count": 10,
      "outputs": [
        {
          "output_type": "stream",
          "name": "stdout",
          "text": [
            " ******************* \n",
            "  *****************  \n",
            "   ***************   \n",
            "    *************    \n",
            "     ***********     \n",
            "      *********      \n",
            "       *******       \n",
            "        *****        \n",
            "         ***         \n",
            "          *          \n"
          ]
        }
      ]
    },
    {
      "cell_type": "code",
      "source": [
        "# Practice3\n",
        "height = 5\n",
        "#lsymbol, rsymbol = \" \", \" \"\n",
        "#midsymbol1, midsymbol2 = \"o\", \"*\"\n",
        "i = 0\n",
        "while i < height:\n",
        "    # 奇數層: i = 0 2 4 6 8\n",
        "    if i % 2 == 0:\n",
        "        lsymbol, midsymbol, rsymbol = \" \", \"o\", \" \"\n",
        "    # 偶數層: i = 1 3 5 7(i % 2 == 1)\n",
        "    else:\n",
        "        lsymbol, midsymbol, rsymbol = \" \", \"*\", \" \"\n",
        "    lcount = i\n",
        "    midcount = (height * 2 - 1) - 2 * i\n",
        "    rcount = i\n",
        "    print(lsymbol * lcount +\n",
        "       midsymbol * midcount +\n",
        "       rsymbol * rcount)\n",
        "    i = i + 1"
      ],
      "metadata": {
        "colab": {
          "base_uri": "https://localhost:8080/"
        },
        "id": "1uaL0mI3m-La",
        "outputId": "0ff81026-d38f-4477-9c6d-e0172642c79e"
      },
      "execution_count": 35,
      "outputs": [
        {
          "output_type": "stream",
          "name": "stdout",
          "text": [
            "ooooooooo\n",
            " ******* \n",
            "  ooooo  \n",
            "   ***   \n",
            "    o    \n"
          ]
        }
      ]
    }
  ]
}