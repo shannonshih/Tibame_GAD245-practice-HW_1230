{
  "nbformat": 4,
  "nbformat_minor": 0,
  "metadata": {
    "colab": {
      "provenance": [],
      "authorship_tag": "ABX9TyPqTsd+2Wc80bYD1/b1NohS",
      "include_colab_link": true
    },
    "kernelspec": {
      "name": "python3",
      "display_name": "Python 3"
    },
    "language_info": {
      "name": "python"
    }
  },
  "cells": [
    {
      "cell_type": "markdown",
      "metadata": {
        "id": "view-in-github",
        "colab_type": "text"
      },
      "source": [
        "<a href=\"https://colab.research.google.com/github/shannonshih/Tibame_GAD245-practice-HW_1230/blob/main/Practice02(%E8%BF%B4%E5%9C%88%E4%BA%8C)_1230.ipynb\" target=\"_parent\"><img src=\"https://colab.research.google.com/assets/colab-badge.svg\" alt=\"Open In Colab\"/></a>"
      ]
    },
    {
      "cell_type": "code",
      "execution_count": 1,
      "metadata": {
        "colab": {
          "base_uri": "https://localhost:8080/"
        },
        "id": "Gcy3e0tCGnQS",
        "outputId": "eb633632-9f7f-48c8-d79b-c49898f085e9"
      },
      "outputs": [
        {
          "output_type": "stream",
          "name": "stdout",
          "text": [
            "1\n",
            "3\n",
            "6\n",
            "10\n",
            "15\n",
            "21\n",
            "28\n",
            "36\n",
            "45\n",
            "55\n"
          ]
        }
      ],
      "source": [
        "# 累加\n",
        "total = 0\n",
        "i = 0\n",
        "while i < 10:\n",
        "    total = total + (i + 1)\n",
        "    print(total)\n",
        "    i = i + 1"
      ]
    },
    {
      "cell_type": "code",
      "source": [
        "# 累加Practice1\n",
        "# 2除7得出的答案，累積印出小數點後的10個位數的數字\n",
        "a, b = 2, 7\n",
        "ans = \"0.\"\n",
        "i = 0\n",
        "while i < 10:\n",
        "    # 2 -> 20\n",
        "    a10 = a * 10\n",
        "    # 20 // b\n",
        "    ans = ans + str(a10 // b)\n",
        "    # 20 % 7\n",
        "    a = a10 % b\n",
        "    print(ans)\n",
        "    i = i + 1"
      ],
      "metadata": {
        "colab": {
          "base_uri": "https://localhost:8080/"
        },
        "id": "fJfvPSo7Hf1z",
        "outputId": "59432ed6-ce0a-46bf-9802-46fc5038edf0"
      },
      "execution_count": 5,
      "outputs": [
        {
          "output_type": "stream",
          "name": "stdout",
          "text": [
            "0.2\n",
            "0.28\n",
            "0.285\n",
            "0.2857\n",
            "0.28571\n",
            "0.285714\n",
            "0.2857142\n",
            "0.28571428\n",
            "0.285714285\n",
            "0.2857142857\n"
          ]
        }
      ]
    },
    {
      "cell_type": "code",
      "source": [
        "# 累加Practice1-1\n",
        "# 3除5得出的答案，累積印出小數點後的10個位數的數字\n",
        "a, b = 3, 5\n",
        "ans = \"0.\"\n",
        "i = 0\n",
        "while i < 10:\n",
        "    # 3 -> 30\n",
        "    a10 = a * 10\n",
        "    # 30 // b\n",
        "    ans = ans + str(a10 // b)\n",
        "    # 30 % 5\n",
        "    a = a10 % b\n",
        "    print(ans)\n",
        "    i = i + 1"
      ],
      "metadata": {
        "colab": {
          "base_uri": "https://localhost:8080/"
        },
        "id": "9tyb4XNtLgri",
        "outputId": "3bd6a01c-3585-4bca-b170-0bd4572dac08"
      },
      "execution_count": 6,
      "outputs": [
        {
          "output_type": "stream",
          "name": "stdout",
          "text": [
            "0.6\n",
            "0.60\n",
            "0.600\n",
            "0.6000\n",
            "0.60000\n",
            "0.600000\n",
            "0.6000000\n",
            "0.60000000\n",
            "0.600000000\n",
            "0.6000000000\n"
          ]
        }
      ]
    },
    {
      "cell_type": "code",
      "source": [
        "# 累加Practice2\n",
        "s = \"asdfsDfgvv   ,, WqrRrwqr. wQr123123rqw5tAfg\"\n",
        "# 英文大小寫, 幫我統計出來s的字串裡面有多少個小寫 多少個大寫\n",
        "lowercase, uppercase = 0, 0\n",
        "i = 0\n",
        "# len(s)-> 字串s的長度\n",
        "while i < len(s):\n",
        "    # s[i]-> 查詢/提取字串內的每一位字元\n",
        "    # 把英文大小寫字母用ASCII編碼轉換成十進制\n",
        "    n = ord(s[i])\n",
        "    if ord(\"a\") <= n <= ord(\"z\"):\n",
        "        # 計算小寫總數\n",
        "        lowercase = lowercase + 1\n",
        "    if ord(\"A\") <= n <= ord(\"Z\"):\n",
        "        # 計算大寫總數\n",
        "        uppercase = uppercase + 1\n",
        "    i = i + 1\n",
        "print(lowercase, uppercase)"
      ],
      "metadata": {
        "colab": {
          "base_uri": "https://localhost:8080/"
        },
        "id": "b0fn3JyGNp1o",
        "outputId": "ae95cd1f-8f71-48a7-8739-91861e3c8fb1"
      },
      "execution_count": 34,
      "outputs": [
        {
          "output_type": "stream",
          "name": "stdout",
          "text": [
            "23 5\n"
          ]
        }
      ]
    },
    {
      "cell_type": "code",
      "source": [
        "# 累加Practice2-1\n",
        "s = \"asdfsDfgvv   ,, WqrRrwqr. wQr123123rqw5tAfg\"\n",
        "# 妳要幫我統計大小寫字母每一個字母各自有幾個\n",
        "# 英文字母有26個，所以要制定一個有26個位置的list，分別代表每個字母的個數\n",
        "lowercase = [0] * 26\n",
        "uppercase = [0] * 26\n",
        "i = 0\n",
        "while i < len(s):\n",
        "    # s[i]-> 查詢/提取字串內的每一位字元\n",
        "    # 把英文大小寫字母用ASCII編碼轉換成十進制\n",
        "    n = ord(s[i])\n",
        "    if ord(\"a\") <= n <= ord(\"z\"):\n",
        "        # 分別對應成(轉換成)list內的26個位置\n",
        "        # 65 - 90 -> 0 - 25\n",
        "        n = n - ord(\"a\")\n",
        "        lowercase[n] = lowercase[n] + 1\n",
        "    if ord(\"A\") <= n <= ord(\"Z\"):\n",
        "        # 分別對應成(轉換成)list內的26個位置\n",
        "        # 97 - 122 -> 0 - 25\n",
        "        n = n - ord(\"A\")\n",
        "        uppercase[n] = uppercase[n] + 1\n",
        "    i = i + 1\n",
        "print(lowercase)\n",
        "print(uppercase)"
      ],
      "metadata": {
        "colab": {
          "base_uri": "https://localhost:8080/"
        },
        "id": "BAIV1tXJQpsE",
        "outputId": "e386b7f1-4696-4d39-c6a9-b4a20ff0e3d2"
      },
      "execution_count": 19,
      "outputs": [
        {
          "output_type": "stream",
          "name": "stdout",
          "text": [
            "[1, 0, 0, 1, 0, 3, 2, 0, 0, 0, 0, 0, 0, 0, 0, 0, 3, 5, 2, 1, 0, 2, 3, 0, 0, 0]\n",
            "[1, 0, 0, 1, 0, 0, 0, 0, 0, 0, 0, 0, 0, 0, 0, 0, 1, 1, 0, 0, 0, 0, 1, 0, 0, 0]\n"
          ]
        }
      ]
    },
    {
      "cell_type": "code",
      "source": [
        "# 累加Practice2-2\n",
        "s = \"asdfsDfgvv   ,, WqrRrwqr. wQr123123rqw5tAfg\"\n",
        "# 妳要幫我統計大小寫字母每一個字母各自有幾個\n",
        "# 英文字母有26個，所以要制定一個有26個位置的list，分別代表每個字母的個數\n",
        "lowercase = [0] * 26\n",
        "uppercase = [0] * 26\n",
        "i = 0\n",
        "while i < len(s):\n",
        "    # s[i]-> 查詢/提取字串內的每一位字元\n",
        "    # 把英文大小寫字母用ASCII編碼轉換成十進制\n",
        "    n = ord(s[i])\n",
        "    if ord(\"a\") <= n <= ord(\"z\"):\n",
        "        # 分別對應成(轉換成)list內的26個位置\n",
        "        # 65 - 90 -> 0 - 25\n",
        "        n = n - ord(\"a\")\n",
        "        lowercase[n] = lowercase[n] + 1\n",
        "    elif ord(\"A\") <= n <= ord(\"Z\"):\n",
        "        # 分別對應成(轉換成)list內的26個位置\n",
        "        # 97 - 122 -> 0 - 25\n",
        "        n = n - ord(\"A\")\n",
        "        uppercase[n] = uppercase[n] + 1\n",
        "    i = i + 1\n",
        "#print(lowercase)\n",
        "#print(uppercase)\n",
        "\n",
        "# 分別幫我列出各別字母的個數\n",
        "# 前一段程式要做的事情結束之後，下一段程式就算是新的開始，迴圈的層數一樣會遵循潛規則\n",
        "# (第一層計數 -> i; 第二層計數 -> j; 第二層計數 -> k....)\n",
        "i = 0\n",
        "# 印出26行\n",
        "# A: 5  a: 3\n",
        "# B: 2  b: 4\n",
        "while i < len(lowercase):\n",
        "    # 將用ASCII編碼轉換成十進位之結果再轉換回所代表的相對應字母\n",
        "    # chr(65) -> \"A\" chr(97) -> \"a\"\n",
        "    c1, c2 = chr(i + ord(\"A\")), chr(i + ord(\"a\"))\n",
        "    # 可再單獨拿出並用代號將其命名以便後續做更動\n",
        "    # 改成n1, n2 = uppercase[i], lowercase[i]\n",
        "    print(c1 + \": \", uppercase[i], \"/\", c2 + \": \", lowercase[i])\n",
        "    i = i + 1"
      ],
      "metadata": {
        "colab": {
          "base_uri": "https://localhost:8080/"
        },
        "id": "GwO_9Td-mq2L",
        "outputId": "5d1fed2d-8fc7-44e8-a3b2-5f7c033c820f"
      },
      "execution_count": 33,
      "outputs": [
        {
          "output_type": "stream",
          "name": "stdout",
          "text": [
            "A:  1 / a:  1\n",
            "B:  0 / b:  0\n",
            "C:  0 / c:  0\n",
            "D:  1 / d:  1\n",
            "E:  0 / e:  0\n",
            "F:  0 / f:  3\n",
            "G:  0 / g:  2\n",
            "H:  0 / h:  0\n",
            "I:  0 / i:  0\n",
            "J:  0 / j:  0\n",
            "K:  0 / k:  0\n",
            "L:  0 / l:  0\n",
            "M:  0 / m:  0\n",
            "N:  0 / n:  0\n",
            "O:  0 / o:  0\n",
            "P:  0 / p:  0\n",
            "Q:  1 / q:  3\n",
            "R:  1 / r:  5\n",
            "S:  0 / s:  2\n",
            "T:  0 / t:  1\n",
            "U:  0 / u:  0\n",
            "V:  0 / v:  2\n",
            "W:  1 / w:  3\n",
            "X:  0 / x:  0\n",
            "Y:  0 / y:  0\n",
            "Z:  0 / z:  0\n"
          ]
        }
      ]
    }
  ]
}